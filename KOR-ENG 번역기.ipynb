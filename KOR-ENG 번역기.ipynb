{
 "cells": [
  {
   "cell_type": "markdown",
   "id": "00d78805",
   "metadata": {},
   "source": [
    "Attention Tensorflow Implementation\n",
    "\n",
    "- Tensorflow.org \"Neural machine translation with attention\" 문서를 참고했습니다. <br> https://www.tensorflow.org/text/tutorials/nmt_with_attention"
   ]
  },
  {
   "cell_type": "code",
   "execution_count": 7,
   "id": "14722271",
   "metadata": {},
   "outputs": [],
   "source": [
    "# 분석에 필요한 사전 라이브러리를 다운받습니다.\n",
    "\n",
    "!pip install einops\n",
    "!pip install tensorflow-text\n",
    "\n",
    "import numpy as np\n",
    "\n",
    "import typing\n",
    "from typing import Any, Tuple\n",
    "\n",
    "import einops\n",
    "import matplotlib.pyplot as plt\n",
    "import matplotlib.ticker as ticker\n",
    "\n",
    "import tensorflow as tf\n",
    "import tensorflow_text as tf_text"
   ]
  },
  {
   "cell_type": "markdown",
   "id": "d385087b",
   "metadata": {},
   "source": [
    "사용 데이터셋: Ai-Hub 일상생활 및 구어체 한-영 번역 병렬 말뭉치 데이터 <br>\n",
    "https://aihub.or.kr/aihubdata/data/view.do?currMenu=115&topMenu=100&aihubDataSe=realm&dataSetSn=71265"
   ]
  },
  {
   "cell_type": "code",
   "execution_count": 20,
   "id": "b52ee05d",
   "metadata": {},
   "outputs": [],
   "source": [
    "# json 데이터셋을 가져옵니다.\n",
    "\n",
    "import json\n",
    "\n",
    "with open(r'./aihub-data.json', encoding='utf-8') as f:\n",
    "    text = json.load(f)"
   ]
  },
  {
   "cell_type": "code",
   "execution_count": 21,
   "id": "bfe43376",
   "metadata": {},
   "outputs": [
    {
     "name": "stdout",
     "output_type": "stream",
     "text": [
      "한-영 대화 데이터셋 크기: 1200307\n"
     ]
    }
   ],
   "source": [
    "# 데이터셋의 크기\n",
    "\n",
    "print('한-영 대화 데이터셋 크기:', len(text['data']))"
   ]
  },
  {
   "cell_type": "code",
   "execution_count": 22,
   "id": "bd7a4006",
   "metadata": {},
   "outputs": [
    {
     "data": {
      "text/plain": [
       "{'sn': 'ECOAR1A00922',\n",
       " 'data_set': '일상생활및구어체',\n",
       " 'domain': '해외고객과의채팅',\n",
       " 'subdomain': '숙박,음식점',\n",
       " 'en_original': 'We will send a notification message one day before your reservation.',\n",
       " 'en': 'We will send a notification message one day before your reservation.',\n",
       " 'mt': '예약 하루 전에 알림 메시지를 보내드립니다.',\n",
       " 'ko': '예약 하루 전에 알림 메시지를 보내드려요.',\n",
       " 'source_language': 'en',\n",
       " 'target_language': 'ko',\n",
       " 'word_count_ko': 6.0,\n",
       " 'word_count_en': 11.0,\n",
       " 'word_ratio': 0.545,\n",
       " 'file_name': '해외고객과의채팅_숙박,음식점.xlsx',\n",
       " 'source': '크라우드 소싱',\n",
       " 'license': 'open',\n",
       " 'style': '구어체',\n",
       " 'included_unknown_words': False,\n",
       " 'ner': None}"
      ]
     },
     "execution_count": 22,
     "metadata": {},
     "output_type": "execute_result"
    }
   ],
   "source": [
    "# 예시\n",
    "\n",
    "text['data'][100]"
   ]
  },
  {
   "cell_type": "code",
   "execution_count": 23,
   "id": "a311da74",
   "metadata": {},
   "outputs": [],
   "source": [
    "# 영어문장 정규화\n",
    "\n",
    "from unidecode import unidecode\n",
    "import re\n",
    "\n",
    "def reg_eng(sentence):\n",
    "    sentence = unidecode(sentence.lower().strip())\n",
    "    \n",
    "    sentence = re.sub(r\"([,.?!'])\", r\" \\1\", sentence)\n",
    "    sentence = re.sub(r'[\" \"]+', \" \", sentence)\n",
    "    sentence = re.sub(r\"[^a-zA-Z가-힣,.?!]+\", \" \", sentence)\n",
    "    sentence = sentence.strip()\n",
    "    \n",
    "    return sentence"
   ]
  },
  {
   "cell_type": "code",
   "execution_count": 24,
   "id": "989f3cd8",
   "metadata": {},
   "outputs": [],
   "source": [
    "# 한국어 문장 정규화\n",
    "\n",
    "def reg_kor(sentence):\n",
    "    sentence = sentence.strip()\n",
    "    \n",
    "    sentence = re.sub(r\"([,.?!])\", r\" \\1\", sentence)\n",
    "    sentence = re.sub(r'[\" \"]+', \" \", sentence)\n",
    "    sentence = re.sub(r\"[|ㄱ-ㅎ|ㅏ-ㅣ]+\", \" \", sentence)\n",
    "    sentence = sentence.strip()\n",
    "    \n",
    "    return sentence"
   ]
  },
  {
   "cell_type": "code",
   "execution_count": 25,
   "id": "45cc411c",
   "metadata": {},
   "outputs": [],
   "source": [
    "# json 파일 'en' 문장데이터 정규식 적용 후 array에 할당\n",
    "\n",
    "tgt_raw = np.array([reg_eng(text['data'][_]['en']) for _ in range(len(text['data']))])"
   ]
  },
  {
   "cell_type": "code",
   "execution_count": 26,
   "id": "9606a8b7",
   "metadata": {},
   "outputs": [
    {
     "data": {
      "text/plain": [
       "array(['we will send a notification message one day before your reservation .',\n",
       "       'thank you very much , see you this saturday .',\n",
       "       'good morning , and thank you for calling us today .',\n",
       "       'have you went to the garden ?',\n",
       "       'such a pity , the garden is so beautiful .'], dtype='<U387')"
      ]
     },
     "execution_count": 26,
     "metadata": {},
     "output_type": "execute_result"
    }
   ],
   "source": [
    "# 목표 (tgt) 문장 예시\n",
    "\n",
    "tgt_raw[100:105]"
   ]
  },
  {
   "cell_type": "code",
   "execution_count": 27,
   "id": "d2ea0d28",
   "metadata": {},
   "outputs": [],
   "source": [
    "# json 파일 'ko' 문장데이터 정규식 적용 후 array에 할당\n",
    "\n",
    "src_raw = np.array([reg_kor(text['data'][_]['ko']) for _ in range(len(text['data']))])"
   ]
  },
  {
   "cell_type": "code",
   "execution_count": 28,
   "id": "8ce38ea3",
   "metadata": {},
   "outputs": [
    {
     "data": {
      "text/plain": [
       "array(['예약 하루 전에 알림 메시지를 보내드려요 .', '감사합니다 , 이번 주 토요일에 뵙겠습니다 .',\n",
       "       '좋은 아침이에요 , 오늘 전화해 주셔서 감사합니다 .', '정원에도 가셨나요 ?',\n",
       "       '아쉽네요 , 정원이 정말 아름답거든요 .'], dtype='<U208')"
      ]
     },
     "execution_count": 28,
     "metadata": {},
     "output_type": "execute_result"
    }
   ],
   "source": [
    "# 기존 (src) 문장 예시\n",
    "\n",
    "src_raw[100:105]"
   ]
  },
  {
   "cell_type": "code",
   "execution_count": 29,
   "id": "ceed58cc",
   "metadata": {},
   "outputs": [],
   "source": [
    "# Train 데이터셋과 Validation 데이터셋을 나눕니다.\n",
    "# rnd_train 변수로 train : validation = 8:2 비율로 랜덤하게 데이터를 나누고,\n",
    "# 64 사이즈의 배치데이터로 나눕니다.\n",
    "\n",
    "buffer_size = len(src_raw); batch_size = 64;\n",
    "\n",
    "rnd_train = np.random.uniform(size = (len(tgt_raw), )) < 0.8\n",
    "\n",
    "train_raw = (tf.data.Dataset\n",
    "             .from_tensor_slices((src_raw[rnd_train], tgt_raw[rnd_train]))\n",
    "             .shuffle(buffer_size)\n",
    "             .batch(batch_size))\n",
    "\n",
    "validation_raw = (tf.data.Dataset\n",
    "             .from_tensor_slices((src_raw[~rnd_train], tgt_raw[~rnd_train]))\n",
    "             .shuffle(buffer_size)\n",
    "             .batch(batch_size))"
   ]
  },
  {
   "cell_type": "code",
   "execution_count": 30,
   "id": "c3bcd998",
   "metadata": {},
   "outputs": [],
   "source": [
    "# 문장의 시작과 끝을 '[START]', 'END' 변수로 명시합니다.\n",
    "\n",
    "def sos_eos_tokenize(sentence):\n",
    "    sentence = tf.strings.join(['[START]', sentence, '[END]'], separator = ' ')\n",
    "    return sentence"
   ]
  },
  {
   "cell_type": "code",
   "execution_count": 31,
   "id": "800ff25f",
   "metadata": {},
   "outputs": [],
   "source": [
    "# src 문장을 단어 단위 형태소로 벡터화합니다.\n",
    "\n",
    "max_vocab_size = 10000\n",
    "\n",
    "src_text_processor = tf.keras.layers.TextVectorization(standardize = sos_eos_tokenize,\n",
    "                                                      max_tokens = max_vocab_size,\n",
    "                                                      ragged = True)\n",
    "src_text_processor.adapt(train_raw.map(lambda src, tgt: src))"
   ]
  },
  {
   "cell_type": "code",
   "execution_count": 32,
   "id": "324c32e7",
   "metadata": {},
   "outputs": [
    {
     "data": {
      "text/plain": [
       "['', '[UNK]', '[START]', '[END]', '.', ',', '수', '?', '있습니다', '이']"
      ]
     },
     "execution_count": 32,
     "metadata": {},
     "output_type": "execute_result"
    }
   ],
   "source": [
    "src_text_processor.get_vocabulary()[:10]"
   ]
  },
  {
   "cell_type": "code",
   "execution_count": 33,
   "id": "7b4249df",
   "metadata": {},
   "outputs": [
    {
     "data": {
      "text/plain": [
       "['', '[UNK]', '[START]', '[END]', '.', ',', 'the', 'to', 'i', 'you']"
      ]
     },
     "execution_count": 33,
     "metadata": {},
     "output_type": "execute_result"
    }
   ],
   "source": [
    "# tgt 문장을 단어 단위 형태소로 벡터화합니다.\n",
    "\n",
    "tgt_text_processor = tf.keras.layers.TextVectorization(standardize = sos_eos_tokenize,\n",
    "                                                       max_tokens = max_vocab_size,\n",
    "                                                       ragged=True)\n",
    "\n",
    "tgt_text_processor.adapt(train_raw.map(lambda src, tgt: tgt))\n",
    "tgt_text_processor.get_vocabulary()[:10]"
   ]
  },
  {
   "cell_type": "code",
   "execution_count": 34,
   "id": "13853116",
   "metadata": {},
   "outputs": [],
   "source": [
    "# Train, Validation 데이터셋을 zero-padded 토큰으로 변화합니다.\n",
    "# Attention 모델에 사용하기 위해 한 단어의 텀을 가진 tgt_in, tgt_out 변수를 분리하고,\n",
    "# tgt_in 변수와 context_vector인 src 변수를 묶어줍니다.\n",
    "\n",
    "def text_processor(src, tgt):\n",
    "    src = src_text_processor(src).to_tensor()\n",
    "    tgt = tgt_text_processor(tgt)\n",
    "    tgt_in = tgt[:, :-1].to_tensor()\n",
    "    tgt_out = tgt[:, 1:].to_tensor()\n",
    "    \n",
    "    return (src, tgt_in), tgt_out\n",
    "\n",
    "train = train_raw.map(text_processor, tf.data.AUTOTUNE)\n",
    "validation = validation_raw.map(text_processor, tf.data.AUTOTUNE)"
   ]
  },
  {
   "cell_type": "code",
   "execution_count": 35,
   "id": "95fc6849",
   "metadata": {},
   "outputs": [
    {
     "name": "stdout",
     "output_type": "stream",
     "text": [
      "vectorized source sentences\n",
      "[   2    1    1    1 1837    5    1  374   19    4]\n",
      "--------------------\n",
      "vectorized target input sentences (with [START], without [END])\n",
      "[  2  16  41  36   7 779  97   1   5  11]\n",
      "--------------------\n",
      "vectorized target output sentences (without [START], with [END])\n",
      "[ 16  41  36   7 779  97   1   5  11  13]\n"
     ]
    }
   ],
   "source": [
    "# 토큰화 예시\n",
    "\n",
    "for (ex_src_tok, ex_tgt_in), ex_tgt_out in train.take(1):\n",
    "    print('vectorized source sentences')\n",
    "    print(ex_src_tok[0, :10].numpy())\n",
    "    print('-' * 20)\n",
    "    print('vectorized target input sentences (with [START], without [END])')\n",
    "    print(ex_tgt_in[0, :10].numpy())\n",
    "    print('-' * 20)\n",
    "    print('vectorized target output sentences (without [START], with [END])')\n",
    "    print(ex_tgt_out[0, :10].numpy())"
   ]
  },
  {
   "cell_type": "code",
   "execution_count": 36,
   "id": "1163accd",
   "metadata": {},
   "outputs": [],
   "source": [
    "UNITS = 256"
   ]
  },
  {
   "cell_type": "code",
   "execution_count": 37,
   "id": "848dc4ea",
   "metadata": {},
   "outputs": [],
   "source": [
    "# 벡터의 크기를 조회해 분석 중간 오류가 발생 시 확인 가능하비낟.\n",
    "\n",
    "class ShapeChecker():\n",
    "    def __init__(self):\n",
    "        self.shapes = {}\n",
    "        \n",
    "    def __call__(self, tensor, names, broadcast = False):\n",
    "        if not tf.executing_eagerly():\n",
    "            return\n",
    "        \n",
    "        parsed = einops.parse_shape(tensor, names)\n",
    "        \n",
    "        for name, new_dim in parsed.items():\n",
    "            old_dim = self.shapes.get(name, None)\n",
    "            \n",
    "            if (broadcast and new_dim == 1):\n",
    "                continue\n",
    "                \n",
    "            if old_dim is None:\n",
    "                self.shapes[name] = new_dim\n",
    "                continue\n",
    "                \n",
    "            if new_dim != old_dim:\n",
    "                raise ValueError(f\"Shape mismatch for dimension: '{name}'\\n\"\n",
    "                                f\"    found: {new_dim}\\n\"\n",
    "                                f\"    expected: {old_dim}\\n\")"
   ]
  },
  {
   "cell_type": "code",
   "execution_count": 38,
   "id": "848b1067",
   "metadata": {},
   "outputs": [],
   "source": [
    "# 인코더\n",
    "# 인코더의 목적: 디코더가 문장에 나올 다음 단어를 예측할 때 참고할 context_vector 만들기\n",
    "# 1. 토큰화한 문장을 임베딩한다.\n",
    "# 2. 임베딩화한 문장을 Bidirectional GRU layer으로 RNN 네트워크를 구축한다\n",
    "# 3. attention class에 해당 context_vector를 넘겨준다.\n",
    "\n",
    "class Encoder(tf.keras.layers.Layer):\n",
    "    def __init__(self, txt_processor, units):\n",
    "        super(Encoder, self).__init__()\n",
    "        self.txt_processor = txt_processor\n",
    "        self.vocab_size = txt_processor.vocabulary_size()\n",
    "        self.units = units\n",
    "        \n",
    "        self.embedding = tf.keras.layers.Embedding(self.vocab_size, units, mask_zero = True)\n",
    "        \n",
    "        self.rnn = tf.keras.layers.Bidirectional(merge_mode = 'sum',\n",
    "                                                layer = tf.keras.layers.GRU(units,\n",
    "                                                                           return_sequences = True,\n",
    "                                                                           recurrent_initializer = 'glorot_uniform'))\n",
    "        \n",
    "    def call(self, x):\n",
    "        shape_checker = ShapeChecker()\n",
    "        shape_checker(x, 'batch s')\n",
    "        \n",
    "        # 문장을 임베딩화합니다.\n",
    "        x = self.embedding(x)\n",
    "        shape_checker(x, 'batch s units')\n",
    "        \n",
    "        # GRU layer으로 임베딩화한 sequence를 처리합니다.\n",
    "        x = self.rnn(x)\n",
    "        shape_checker(x, 'batch s units')\n",
    "        \n",
    "        # 새로운 embedding을 반환합니다.\n",
    "        return x\n",
    "    \n",
    "    def convert_input(self, texts):\n",
    "        texts = tf.convert_to_tensor(texts)\n",
    "        if len(texts.shape) == 0:\n",
    "            texts = tf.convert_to_tensor(texts)[tf_newaxis]\n",
    "        context = self.txt_processor(texts).to_tensor()\n",
    "        context = self(context)\n",
    "        \n",
    "        return context"
   ]
  },
  {
   "cell_type": "code",
   "execution_count": 39,
   "id": "90d11a6c",
   "metadata": {},
   "outputs": [
    {
     "name": "stdout",
     "output_type": "stream",
     "text": [
      "Context tokens, shape (batch, s): (64, 20)\n",
      "Encoder output, shape (batch, s, units): (64, 20, 256)\n"
     ]
    }
   ],
   "source": [
    "# 인코더 토큰, 벡터 크기\n",
    "\n",
    "encoder = Encoder(src_text_processor, UNITS)\n",
    "ex_context = encoder(ex_src_tok)\n",
    "\n",
    "print(f'Context tokens, shape (batch, s): {ex_src_tok.shape}')\n",
    "print(f'Encoder output, shape (batch, s, units): {ex_context.shape}')"
   ]
  },
  {
   "cell_type": "code",
   "execution_count": 40,
   "id": "536ddf65",
   "metadata": {},
   "outputs": [],
   "source": [
    "# Attention layer은 Decoder가 예측할 때 Encoder의 정보를 확인할 수 있게 한다.\n",
    "# Attention layer은 context_vector와 query_vector의 가중 평균 데이터를 Decoder에 넘겨줍니다.\n",
    "\n",
    "class CrossAttention(tf.keras.layers.Layer):\n",
    "    def __init__(self, units, **kwargs):\n",
    "        super().__init__()\n",
    "        self.mha = tf.keras.layers.MultiHeadAttention(key_dim = units, num_heads = 1, **kwargs)\n",
    "        self.layernorm = tf.keras.layers.LayerNormalization()\n",
    "        self.add = tf.keras.layers.Add()\n",
    "        \n",
    "    def call(self, x, context):\n",
    "        shape_checker = ShapeChecker()\n",
    "        \n",
    "        shape_checker(x, 'batch t units')\n",
    "        shape_checker(context, 'batch s units')\n",
    "        \n",
    "        attn_output, attn_scores = self.mha(query = x,\n",
    "                                           value = context,\n",
    "                                           return_attention_scores = True)\n",
    "        \n",
    "        shape_checker(x, 'batch t units')\n",
    "        shape_checker(attn_scores, 'batch heads t s')\n",
    "        \n",
    "        attn_scores = tf.reduce_mean(attn_scores, axis = 1)\n",
    "        shape_checker(attn_scores, 'batch t s')\n",
    "        self.last_attention_weights = attn_scores\n",
    "        \n",
    "        x = self.add([x, attn_output])\n",
    "        x = self.layernorm(x)\n",
    "        \n",
    "        return x"
   ]
  },
  {
   "cell_type": "code",
   "execution_count": 41,
   "id": "95ab8861",
   "metadata": {},
   "outputs": [],
   "source": [
    "attention_layer = CrossAttention(UNITS)\n",
    "\n",
    "embed = tf.keras.layers.Embedding(tgt_text_processor.vocabulary_size(),\n",
    "                                 output_dim = UNITS, mask_zero = True)\n",
    "ex_tgt_embed = embed(ex_tgt_in)\n",
    "\n",
    "result = attention_layer(ex_tgt_embed, ex_context)"
   ]
  },
  {
   "cell_type": "code",
   "execution_count": 42,
   "id": "6384ca0f",
   "metadata": {},
   "outputs": [
    {
     "name": "stdout",
     "output_type": "stream",
     "text": [
      "Context sequence, shape (batch, s, units): (64, 20, 256)\n",
      "Target sequence, shape (batch, t, units): (64, 26, 256)\n",
      "Attention result, shape (batch, t, units): (64, 26, 256)\n",
      "Attention weights, shape (batch, t, s):    (64, 26, 20)\n"
     ]
    }
   ],
   "source": [
    "# Attention layer 벡터 크기\n",
    "\n",
    "print(f'Context sequence, shape (batch, s, units): {ex_context.shape}')\n",
    "print(f'Target sequence, shape (batch, t, units): {ex_tgt_embed.shape}')\n",
    "print(f'Attention result, shape (batch, t, units): {result.shape}')\n",
    "print(f'Attention weights, shape (batch, t, s):    {attention_layer.last_attention_weights.shape}')"
   ]
  },
  {
   "cell_type": "code",
   "execution_count": 44,
   "id": "fa0fe22a",
   "metadata": {},
   "outputs": [],
   "source": [
    "# Decoder는 문장에서 다음에 나올 토큰을 예측합니다.\n",
    "# 1. 예측 토큰 이전까지 나온 문장을 GRU layer으로 처리합니다.\n",
    "# 2. 해당 정보를 query_vector으로 처리해 Attention layer에서 인코더의 결과값을 참고합니다.\n",
    "# 3. 위 정보들을 토대로 다음에 나올 단어를 예측합니다.\n",
    "\n",
    "class Decoder(tf.keras.layers.Layer):\n",
    "    @classmethod\n",
    "    def add_method(cls, fun):\n",
    "        setattr(cls, fun.__name__, fun)\n",
    "        return fun\n",
    "    \n",
    "    def __init__(self, txt_processor, units):\n",
    "        super(Decoder, self).__init__()\n",
    "        self.txt_processor = txt_processor\n",
    "        self.vocab_size = txt_processor.vocabulary_size()\n",
    "        self.word_to_id = tf.keras.layers.StringLookup(vocabulary = txt_processor.get_vocabulary(),\n",
    "                                                      mask_token = '', oov_token = '[UNK]')\n",
    "        self.id_to_word = tf.keras.layers.StringLookup(vocabulary = txt_processor.get_vocabulary(),\n",
    "                                                      mask_token = '', oov_token = '[UNK]', invert = True)\n",
    "        self.start_token = self.word_to_id('[START]')\n",
    "        self.end_token = self.word_to_id('[END]')\n",
    "        \n",
    "        self.units = units\n",
    "        \n",
    "        self.embedding = tf.keras.layers.Embedding(self.vocab_size,\n",
    "                                                  units, mask_zero = True)\n",
    "        self.rnn = tf.keras.layers.GRU(units,\n",
    "                                      return_sequences = True,\n",
    "                                      return_state = True,\n",
    "                                      recurrent_initializer = 'glorot_uniform')\n",
    "        self.attention = CrossAttention(units)\n",
    "        self.output_layer = tf.keras.layers.Dense(self.vocab_size)"
   ]
  },
  {
   "cell_type": "code",
   "execution_count": 45,
   "id": "633dca41",
   "metadata": {},
   "outputs": [],
   "source": [
    "@Decoder.add_method\n",
    "def call(self, context, x,\n",
    "         state = None,\n",
    "         return_state = False):  \n",
    "    shape_checker = ShapeChecker()\n",
    "    shape_checker(x, 'batch t')\n",
    "    shape_checker(context, 'batch s units')\n",
    "\n",
    "    x = self.embedding(x)\n",
    "    shape_checker(x, 'batch t units')\n",
    "\n",
    "    x, state = self.rnn(x, initial_state = state)\n",
    "    shape_checker(x, 'batch t units')\n",
    "\n",
    "    x = self.attention(x, context)\n",
    "    self.last_attention_weights = self.attention.last_attention_weights\n",
    "    shape_checker(x, 'batch t units')\n",
    "    shape_checker(self.last_attention_weights, 'batch t s')\n",
    "\n",
    "    logits = self.output_layer(x)\n",
    "    shape_checker(logits, 'batch t target_vocab_size')\n",
    "\n",
    "    if return_state:\n",
    "        return logits, state\n",
    "    else:\n",
    "        return logits"
   ]
  },
  {
   "cell_type": "code",
   "execution_count": 46,
   "id": "d2eb9620",
   "metadata": {},
   "outputs": [
    {
     "name": "stdout",
     "output_type": "stream",
     "text": [
      "encoder output shape: (batch, s, units) (64, 20, 256)\n",
      "input target tokens shape: (batch, t) (64, 26)\n",
      "logits shape shape: (batch, target_vocabulary_size) (64, 26, 10000)\n"
     ]
    }
   ],
   "source": [
    "decoder = Decoder(tgt_text_processor, UNITS)\n",
    "logits = decoder(ex_context, ex_tgt_in)\n",
    "\n",
    "print(f'encoder output shape: (batch, s, units) {ex_context.shape}')\n",
    "print(f'input target tokens shape: (batch, t) {ex_tgt_in.shape}')\n",
    "print(f'logits shape shape: (batch, target_vocabulary_size) {logits.shape}')"
   ]
  },
  {
   "cell_type": "code",
   "execution_count": 47,
   "id": "d90ef74d",
   "metadata": {},
   "outputs": [],
   "source": [
    "@Decoder.add_method\n",
    "def get_initial_state(self, context):\n",
    "    batch_size = tf.shape(context)[0]\n",
    "    start_tokens = tf.fill([batch_size, 1], self.start_token)\n",
    "    done = tf.zeros([batch_size, 1], dtype = tf.bool)\n",
    "    embedded = self.embedding(start_tokens)\n",
    "    \n",
    "    return start_tokens, done, self.rnn.get_initial_state(embedded)[0]"
   ]
  },
  {
   "cell_type": "code",
   "execution_count": 48,
   "id": "a2c38c5f",
   "metadata": {},
   "outputs": [],
   "source": [
    "@Decoder.add_method\n",
    "def tokens_to_text(self, tokens):\n",
    "    words = self.id_to_word(tokens)\n",
    "    result = tf.strings.reduce_join(words, axis = -1, separator = ' ')\n",
    "    result = tf.strings.regex_replace(result, '^ *\\[START\\] *', '')\n",
    "    result = tf.strings.regex_replace(result, ' *\\[END\\] *$', '')\n",
    "    \n",
    "    return result"
   ]
  },
  {
   "cell_type": "code",
   "execution_count": 49,
   "id": "9fdd76be",
   "metadata": {},
   "outputs": [],
   "source": [
    "@Decoder.add_method\n",
    "def get_next_token(self, context, next_token, done, state, temperature = 0.0):\n",
    "    logits, state = self(context, next_token,\n",
    "                        state = state, return_state = True)\n",
    "    \n",
    "    if temperature == 0.0:\n",
    "        next_token = tf.argmax(logits, axis = -1)\n",
    "    else:\n",
    "        logits = logits[:, -1, :]/temperature\n",
    "        next_token = tf.random.categorical(logits, num_samples = 1)\n",
    "        \n",
    "    done = done | (next_token == self.end_token)\n",
    "    next_token = tf.where(done, tf.constant(0, dtype = tf.int64), next_token)\n",
    "    \n",
    "    return next_token, done, state"
   ]
  },
  {
   "cell_type": "code",
   "execution_count": 50,
   "id": "502c5c92",
   "metadata": {},
   "outputs": [
    {
     "data": {
      "text/plain": [
       "array([b'alternatively whisk minus penalties inquiries correction comfortably mistakes sole zones',\n",
       "       b'tastier filming festival climb tints fight anything accurately accepted bucket',\n",
       "       b'w fifteen situations classrooms unicorn needing gaps team ring organ'],\n",
       "      dtype=object)"
      ]
     },
     "execution_count": 50,
     "metadata": {},
     "output_type": "execute_result"
    }
   ],
   "source": [
    "next_token, done, state = decoder.get_initial_state(ex_context)\n",
    "tokens = []\n",
    "\n",
    "for _ in range(10):\n",
    "    next_token, done, state = decoder.get_next_token(ex_context,\n",
    "                                                    next_token,\n",
    "                                                    done, state, temperature = 1.0)\n",
    "    tokens.append(next_token)\n",
    "    \n",
    "tokens = tf.concat(tokens, axis = -1)\n",
    "\n",
    "result = decoder.tokens_to_text(tokens)\n",
    "result[:3].numpy()"
   ]
  },
  {
   "cell_type": "code",
   "execution_count": 51,
   "id": "c6214fb8",
   "metadata": {},
   "outputs": [],
   "source": [
    "# Train할 번역기 모델을 구축합니다.\n",
    "\n",
    "class Translator(tf.keras.Model):\n",
    "    @classmethod\n",
    "    def add_method(cls, fun):\n",
    "        setattr(cls, fun.__name__, fun)\n",
    "        return fun\n",
    "    \n",
    "    def __init__(self, units, src_text_processor, tgt_text_processor):\n",
    "        super().__init__()\n",
    "        \n",
    "        encoder = Encoder(src_text_processor, units)\n",
    "        decoder = Decoder(tgt_text_processor, units)\n",
    "        \n",
    "        self.encoder = encoder\n",
    "        self.decoder = decoder\n",
    "        \n",
    "    def call(self, inputs):\n",
    "        context, x = inputs\n",
    "        context = self.encoder(context)\n",
    "        logits = self.decoder(context, x)\n",
    "        \n",
    "        try:\n",
    "            del logits._keras_mask\n",
    "        except AttributeError:\n",
    "            pass\n",
    "        \n",
    "        return logits"
   ]
  },
  {
   "cell_type": "code",
   "execution_count": 68,
   "id": "db28d393",
   "metadata": {},
   "outputs": [
    {
     "name": "stdout",
     "output_type": "stream",
     "text": [
      "Context tokens, shape: (batch, s, units) (64, 20)\n",
      "Target tokens, shape: (batch, t) (64, 26)\n",
      "logits, shape: (batch, t, target_vocabulary_size) (64, 26, 10000)\n"
     ]
    }
   ],
   "source": [
    "# 모델의 크기를 확인합니다.\n",
    "\n",
    "model = Translator(UNITS, src_text_processor, tgt_text_processor)\n",
    "\n",
    "logits = model((ex_src_tok, ex_tgt_in))\n",
    "\n",
    "print(f'Context tokens, shape: (batch, s, units) {ex_src_tok.shape}')\n",
    "print(f'Target tokens, shape: (batch, t) {ex_tgt_in.shape}')\n",
    "print(f'logits, shape: (batch, t, target_vocabulary_size) {logits.shape}')"
   ]
  },
  {
   "cell_type": "code",
   "execution_count": 69,
   "id": "3af2273e",
   "metadata": {},
   "outputs": [],
   "source": [
    "def masked_loss(y_true, y_pred):\n",
    "    loss_fn = tf.keras.losses.SparseCategoricalCrossentropy(from_logits = True,\n",
    "                                                           reduction = 'none')\n",
    "    loss = loss_fn(y_true, y_pred)\n",
    "    \n",
    "    mask = tf.cast(y_true != 0, loss.dtype)\n",
    "    loss *= mask\n",
    "    \n",
    "    return tf.reduce_sum(loss)/tf.reduce_sum(mask)"
   ]
  },
  {
   "cell_type": "code",
   "execution_count": 70,
   "id": "11e9d92c",
   "metadata": {},
   "outputs": [],
   "source": [
    "def masked_acc(y_true, y_pred):\n",
    "    y_pred = tf.argmax(y_pred, axis = -1)\n",
    "    y_pred = tf.cast(y_pred, y_true.dtype)\n",
    "    \n",
    "    match = tf.cast(y_true == y_pred, tf.float32)\n",
    "    mask = tf.cast(y_true != 0, tf.float32)\n",
    "    \n",
    "    return tf.reduce_sum(match)/tf.reduce_sum(mask)"
   ]
  },
  {
   "cell_type": "code",
   "execution_count": 71,
   "id": "cbbee17a",
   "metadata": {},
   "outputs": [],
   "source": [
    "model.compile(optimizer='adam',\n",
    "              loss=masked_loss, \n",
    "              metrics=[masked_acc, masked_loss])"
   ]
  },
  {
   "cell_type": "code",
   "execution_count": 74,
   "id": "1841135d",
   "metadata": {
    "scrolled": true
   },
   "outputs": [
    {
     "name": "stdout",
     "output_type": "stream",
     "text": [
      "Epoch 1/50\n",
      "100/100 [==============================] - 57s 452ms/step - loss: 5.9673 - masked_acc: 0.1390 - masked_loss: 5.9673 - val_loss: 5.1048 - val_masked_acc: 0.2348 - val_masked_loss: 5.1048\n",
      "Epoch 2/50\n",
      "100/100 [==============================] - 45s 455ms/step - loss: 4.7051 - masked_acc: 0.2708 - masked_loss: 4.7051 - val_loss: 4.5241 - val_masked_acc: 0.2929 - val_masked_loss: 4.5241\n",
      "Epoch 3/50\n",
      "100/100 [==============================] - 49s 489ms/step - loss: 4.3780 - masked_acc: 0.3017 - masked_loss: 4.3780 - val_loss: 4.2386 - val_masked_acc: 0.3185 - val_masked_loss: 4.2386\n",
      "Epoch 4/50\n",
      "100/100 [==============================] - 53s 527ms/step - loss: 4.1474 - masked_acc: 0.3269 - masked_loss: 4.1474 - val_loss: 4.0692 - val_masked_acc: 0.3403 - val_masked_loss: 4.0692\n",
      "Epoch 5/50\n",
      "100/100 [==============================] - 49s 493ms/step - loss: 3.9634 - masked_acc: 0.3478 - masked_loss: 3.9634 - val_loss: 3.9166 - val_masked_acc: 0.3572 - val_masked_loss: 3.9166\n",
      "Epoch 6/50\n",
      "100/100 [==============================] - 63s 632ms/step - loss: 3.8602 - masked_acc: 0.3595 - masked_loss: 3.8602 - val_loss: 3.7335 - val_masked_acc: 0.3753 - val_masked_loss: 3.7335\n",
      "Epoch 7/50\n",
      "100/100 [==============================] - 72s 720ms/step - loss: 3.7454 - masked_acc: 0.3743 - masked_loss: 3.7454 - val_loss: 3.5959 - val_masked_acc: 0.3921 - val_masked_loss: 3.5959\n",
      "Epoch 8/50\n",
      "100/100 [==============================] - 73s 727ms/step - loss: 3.6363 - masked_acc: 0.3848 - masked_loss: 3.6363 - val_loss: 3.6381 - val_masked_acc: 0.3970 - val_masked_loss: 3.6381\n",
      "Epoch 9/50\n",
      "100/100 [==============================] - 75s 752ms/step - loss: 3.5287 - masked_acc: 0.3994 - masked_loss: 3.5287 - val_loss: 3.4794 - val_masked_acc: 0.4025 - val_masked_loss: 3.4794\n",
      "Epoch 10/50\n",
      "100/100 [==============================] - 77s 768ms/step - loss: 3.4360 - masked_acc: 0.4085 - masked_loss: 3.4360 - val_loss: 3.4003 - val_masked_acc: 0.4170 - val_masked_loss: 3.4003\n",
      "Epoch 11/50\n",
      "100/100 [==============================] - 59s 589ms/step - loss: 3.3340 - masked_acc: 0.4181 - masked_loss: 3.3340 - val_loss: 3.3451 - val_masked_acc: 0.4173 - val_masked_loss: 3.3451\n",
      "Epoch 12/50\n",
      "100/100 [==============================] - 59s 587ms/step - loss: 3.3119 - masked_acc: 0.4199 - masked_loss: 3.3119 - val_loss: 3.2886 - val_masked_acc: 0.4190 - val_masked_loss: 3.2886\n",
      "Epoch 13/50\n",
      "100/100 [==============================] - 65s 648ms/step - loss: 3.2332 - masked_acc: 0.4302 - masked_loss: 3.2332 - val_loss: 3.2254 - val_masked_acc: 0.4356 - val_masked_loss: 3.2254\n",
      "Epoch 14/50\n",
      "100/100 [==============================] - 68s 685ms/step - loss: 3.2044 - masked_acc: 0.4323 - masked_loss: 3.2044 - val_loss: 3.1785 - val_masked_acc: 0.4357 - val_masked_loss: 3.1785\n",
      "Epoch 15/50\n",
      "100/100 [==============================] - 64s 639ms/step - loss: 3.1370 - masked_acc: 0.4426 - masked_loss: 3.1370 - val_loss: 3.0986 - val_masked_acc: 0.4438 - val_masked_loss: 3.0986\n",
      "Epoch 16/50\n",
      "100/100 [==============================] - 86s 859ms/step - loss: 3.0892 - masked_acc: 0.4451 - masked_loss: 3.0892 - val_loss: 3.1120 - val_masked_acc: 0.4416 - val_masked_loss: 3.1120\n",
      "Epoch 17/50\n",
      "100/100 [==============================] - 99s 988ms/step - loss: 3.0314 - masked_acc: 0.4503 - masked_loss: 3.0314 - val_loss: 2.9740 - val_masked_acc: 0.4604 - val_masked_loss: 2.9740\n",
      "Epoch 18/50\n",
      "100/100 [==============================] - 75s 752ms/step - loss: 3.0110 - masked_acc: 0.4575 - masked_loss: 3.0110 - val_loss: 2.9889 - val_masked_acc: 0.4505 - val_masked_loss: 2.9889\n",
      "Epoch 19/50\n",
      "100/100 [==============================] - 74s 737ms/step - loss: 2.9597 - masked_acc: 0.4616 - masked_loss: 2.9597 - val_loss: 2.8929 - val_masked_acc: 0.4685 - val_masked_loss: 2.8929\n",
      "Epoch 20/50\n",
      "100/100 [==============================] - 75s 753ms/step - loss: 2.9110 - masked_acc: 0.4678 - masked_loss: 2.9110 - val_loss: 2.8934 - val_masked_acc: 0.4706 - val_masked_loss: 2.8934\n",
      "Epoch 21/50\n",
      "100/100 [==============================] - 75s 747ms/step - loss: 2.9027 - masked_acc: 0.4669 - masked_loss: 2.9027 - val_loss: 2.8887 - val_masked_acc: 0.4715 - val_masked_loss: 2.8887\n",
      "Epoch 22/50\n",
      "100/100 [==============================] - 74s 742ms/step - loss: 2.8733 - masked_acc: 0.4712 - masked_loss: 2.8733 - val_loss: 2.8165 - val_masked_acc: 0.4773 - val_masked_loss: 2.8165\n",
      "Epoch 23/50\n",
      "100/100 [==============================] - 74s 735ms/step - loss: 2.8718 - masked_acc: 0.4707 - masked_loss: 2.8718 - val_loss: 2.8240 - val_masked_acc: 0.4764 - val_masked_loss: 2.8240\n",
      "Epoch 24/50\n",
      "100/100 [==============================] - 73s 731ms/step - loss: 2.8063 - masked_acc: 0.4799 - masked_loss: 2.8063 - val_loss: 2.8590 - val_masked_acc: 0.4721 - val_masked_loss: 2.8590\n",
      "Epoch 25/50\n",
      "100/100 [==============================] - 75s 755ms/step - loss: 2.7822 - masked_acc: 0.4809 - masked_loss: 2.7822 - val_loss: 2.7601 - val_masked_acc: 0.4857 - val_masked_loss: 2.7601\n",
      "Epoch 26/50\n",
      "100/100 [==============================] - 76s 755ms/step - loss: 2.8035 - masked_acc: 0.4773 - masked_loss: 2.8035 - val_loss: 2.7838 - val_masked_acc: 0.4808 - val_masked_loss: 2.7838\n",
      "Epoch 27/50\n",
      "100/100 [==============================] - 74s 738ms/step - loss: 2.7653 - masked_acc: 0.4821 - masked_loss: 2.7653 - val_loss: 2.7101 - val_masked_acc: 0.4927 - val_masked_loss: 2.7101\n",
      "Epoch 28/50\n",
      "100/100 [==============================] - 74s 738ms/step - loss: 2.7133 - masked_acc: 0.4900 - masked_loss: 2.7133 - val_loss: 2.7626 - val_masked_acc: 0.4893 - val_masked_loss: 2.7626\n",
      "Epoch 29/50\n",
      "100/100 [==============================] - 73s 732ms/step - loss: 2.7010 - masked_acc: 0.4899 - masked_loss: 2.7010 - val_loss: 2.7887 - val_masked_acc: 0.4788 - val_masked_loss: 2.7887\n",
      "Epoch 30/50\n",
      "100/100 [==============================] - 75s 749ms/step - loss: 2.6875 - masked_acc: 0.4929 - masked_loss: 2.6875 - val_loss: 2.6537 - val_masked_acc: 0.4921 - val_masked_loss: 2.6537\n",
      "Epoch 31/50\n",
      "100/100 [==============================] - 72s 718ms/step - loss: 2.6856 - masked_acc: 0.4941 - masked_loss: 2.6856 - val_loss: 2.6703 - val_masked_acc: 0.4934 - val_masked_loss: 2.6703\n",
      "Epoch 32/50\n",
      "100/100 [==============================] - 75s 745ms/step - loss: 2.6878 - masked_acc: 0.4937 - masked_loss: 2.6878 - val_loss: 2.7590 - val_masked_acc: 0.4844 - val_masked_loss: 2.7590\n",
      "Epoch 33/50\n",
      "100/100 [==============================] - 75s 754ms/step - loss: 2.6728 - masked_acc: 0.4944 - masked_loss: 2.6728 - val_loss: 2.6627 - val_masked_acc: 0.4936 - val_masked_loss: 2.6627\n"
     ]
    }
   ],
   "source": [
    "# 모델을 학습합니다.\n",
    "\n",
    "history = model.fit(\n",
    "    train.repeat(), \n",
    "    epochs = 50,\n",
    "    steps_per_epoch = 100,\n",
    "    validation_data = validation,\n",
    "    validation_steps = 20,\n",
    "    callbacks=[\n",
    "        tf.keras.callbacks.EarlyStopping(patience = 3)])"
   ]
  },
  {
   "cell_type": "code",
   "execution_count": 1,
   "id": "ade163aa",
   "metadata": {},
   "outputs": [
    {
     "ename": "NameError",
     "evalue": "name 'plt' is not defined",
     "output_type": "error",
     "traceback": [
      "\u001b[1;31m---------------------------------------------------------------------------\u001b[0m",
      "\u001b[1;31mNameError\u001b[0m                                 Traceback (most recent call last)",
      "Input \u001b[1;32mIn [1]\u001b[0m, in \u001b[0;36m<cell line: 3>\u001b[1;34m()\u001b[0m\n\u001b[0;32m      1\u001b[0m \u001b[38;5;66;03m# 모델의 loss을 확인합니다.\u001b[39;00m\n\u001b[1;32m----> 3\u001b[0m \u001b[43mplt\u001b[49m\u001b[38;5;241m.\u001b[39mplot(history\u001b[38;5;241m.\u001b[39mhistory[\u001b[38;5;124m'\u001b[39m\u001b[38;5;124mloss\u001b[39m\u001b[38;5;124m'\u001b[39m], label\u001b[38;5;241m=\u001b[39m\u001b[38;5;124m'\u001b[39m\u001b[38;5;124mloss\u001b[39m\u001b[38;5;124m'\u001b[39m)\n\u001b[0;32m      4\u001b[0m plt\u001b[38;5;241m.\u001b[39mplot(history\u001b[38;5;241m.\u001b[39mhistory[\u001b[38;5;124m'\u001b[39m\u001b[38;5;124mval_loss\u001b[39m\u001b[38;5;124m'\u001b[39m], label\u001b[38;5;241m=\u001b[39m\u001b[38;5;124m'\u001b[39m\u001b[38;5;124mval_loss\u001b[39m\u001b[38;5;124m'\u001b[39m)\n\u001b[0;32m      6\u001b[0m plt\u001b[38;5;241m.\u001b[39mylim([\u001b[38;5;241m0\u001b[39m, \u001b[38;5;28mmax\u001b[39m(plt\u001b[38;5;241m.\u001b[39mylim())])\n",
      "\u001b[1;31mNameError\u001b[0m: name 'plt' is not defined"
     ]
    }
   ],
   "source": [
    "# 모델의 loss을 확인합니다.\n",
    "\n",
    "plt.plot(history.history['loss'], label='loss')\n",
    "plt.plot(history.history['val_loss'], label='val_loss')\n",
    "\n",
    "plt.ylim([0, max(plt.ylim())])\n",
    "plt.xlabel('Epoch #')\n",
    "plt.ylabel('CE/token')\n",
    "plt.legend()"
   ]
  },
  {
   "cell_type": "code",
   "execution_count": 141,
   "id": "0db595a9",
   "metadata": {},
   "outputs": [
    {
     "data": {
      "text/plain": [
       "<matplotlib.legend.Legend at 0x23d7b8689a0>"
      ]
     },
     "execution_count": 141,
     "metadata": {},
     "output_type": "execute_result"
    },
    {
     "data": {
      "image/png": "[encoded data removed]",
      "text/plain": [
       "<Figure size 432x288 with 1 Axes>"
      ]
     },
     "metadata": {
      "needs_background": "light"
     },
     "output_type": "display_data"
    }
   ],
   "source": [
    "# 모델의 정확도를 확인합니다.\n",
    "\n",
    "plt.plot(history.history['masked_acc'], label='accuracy')\n",
    "plt.plot(history.history['val_masked_acc'], label='val_accuracy')\n",
    "\n",
    "plt.ylim([0, max(plt.ylim())])\n",
    "plt.xlabel('Epoch #')\n",
    "plt.ylabel('CE/token')\n",
    "plt.legend()"
   ]
  },
  {
   "cell_type": "code",
   "execution_count": 75,
   "id": "1bc2145e",
   "metadata": {},
   "outputs": [],
   "source": [
    "# 새로운 문장을 입력했을 때, 토큰화 후 임베딩하여 알맞은 번역 문장을 출력합니다.\n",
    "\n",
    "@Translator.add_method\n",
    "def translate(self, texts, *, max_length = 50, temperature = 0.0):\n",
    "    context = self.encoder.convert_input(texts)\n",
    "    batch_size = tf.shape(texts)[0]\n",
    "    \n",
    "    tokens = []\n",
    "    attention_weights = []\n",
    "    next_token, done, state = self.decoder.get_initial_state(context)\n",
    "    \n",
    "    for _ in range(max_length):\n",
    "        next_token, done, state = self.decoder.get_next_token(context, next_token,\n",
    "                                                             done, state, temperature)\n",
    "        \n",
    "        tokens.append(next_token)\n",
    "        attention_weights.append(self.decoder.last_attention_weights)\n",
    "        \n",
    "        if tf.executing_eagerly() and tf.reduce_all(done):\n",
    "            break\n",
    "            \n",
    "    tokens = tf.concat(tokens, axis = -1)\n",
    "    self.last_attention_weights = tf.concat(attention_weights, axis = 1)\n",
    "    \n",
    "    result = self.decoder.tokens_to_text(tokens)\n",
    "    \n",
    "    return result"
   ]
  },
  {
   "cell_type": "code",
   "execution_count": 127,
   "id": "2fb5f755",
   "metadata": {},
   "outputs": [
    {
     "data": {
      "text/plain": [
       "'감사합니다 , 이번 주 토요일에 뵙겠습니다 .'"
      ]
     },
     "execution_count": 127,
     "metadata": {},
     "output_type": "execute_result"
    }
   ],
   "source": [
    "src_raw[101]"
   ]
  },
  {
   "cell_type": "code",
   "execution_count": null,
   "id": "c18e7c9f",
   "metadata": {},
   "outputs": [
    {
     "name": "stdout",
     "output_type": "stream",
     "text": [
      "문장을 입력하세요: 감사합니다, 오늘 하루.\n"
     ]
    }
   ],
   "source": [
    "inp = str(input('문장을 입력하세요: '))\n",
    "inp = reg_kor(inp)\n",
    "\n",
    "result = model.translate([inp])\n",
    "result[0].numpy().decode().strip()"
   ]
  },
  {
   "cell_type": "code",
   "execution_count": 76,
   "id": "fb08e7db",
   "metadata": {},
   "outputs": [],
   "source": [
    "# model이 학습한 weight을 저장합니다.\n",
    "\n",
    "class Export(tf.Module):\n",
    "    def __init__(self, model):\n",
    "        self.model = model\n",
    "        \n",
    "    @tf.function(input_signature = [tf.TensorSpec(dtype = tf.string, shape = [None])])\n",
    "    \n",
    "    def translate(self, inputs):\n",
    "        return self.model.translate(inputs)"
   ]
  },
  {
   "cell_type": "code",
   "execution_count": 77,
   "id": "acd529f6",
   "metadata": {},
   "outputs": [],
   "source": [
    "export = Export(model)"
   ]
  },
  {
   "cell_type": "code",
   "execution_count": 78,
   "id": "f8b9138b",
   "metadata": {},
   "outputs": [
    {
     "name": "stderr",
     "output_type": "stream",
     "text": [
      "WARNING:absl:Found untraced functions such as embedding_5_layer_call_fn, embedding_5_layer_call_and_return_conditional_losses, embedding_6_layer_call_fn, embedding_6_layer_call_and_return_conditional_losses, cross_attention_3_layer_call_fn while saving (showing 5 of 32). These functions will not be directly callable after loading.\n"
     ]
    },
    {
     "name": "stdout",
     "output_type": "stream",
     "text": [
      "INFO:tensorflow:Assets written to: kor-eng-translator\\assets\n"
     ]
    },
    {
     "name": "stderr",
     "output_type": "stream",
     "text": [
      "INFO:tensorflow:Assets written to: kor-eng-translator\\assets\n"
     ]
    }
   ],
   "source": [
    "tf.saved_model.save(export, 'kor-eng-translator',\n",
    "                    signatures={'serving_default': export.translate})"
   ]
  }
 ],
 "metadata": {
  "kernelspec": {
   "display_name": "Python 3 (ipykernel)",
   "language": "python",
   "name": "python3"
  },
  "language_info": {
   "codemirror_mode": {
    "name": "ipython",
    "version": 3
   },
   "file_extension": ".py",
   "mimetype": "text/x-python",
   "name": "python",
   "nbconvert_exporter": "python",
   "pygments_lexer": "ipython3",
   "version": "3.9.12"
  }
 },
 "nbformat": 4,
 "nbformat_minor": 5
}
